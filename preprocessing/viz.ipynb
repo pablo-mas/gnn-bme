{
 "cells": [
  {
   "cell_type": "code",
   "execution_count": 282,
   "metadata": {},
   "outputs": [],
   "source": [
    "import numpy as np\n",
    "from PIL import Image\n",
    "import matplotlib.pyplot as plt\n",
    "from matplotlib import colors\n",
    "import seaborn as sns\n",
    "from glob import glob\n",
    "from skimage.segmentation import mark_boundaries\n",
    "import os\n",
    "\n",
    "def compute_dice_coefficient(mask_gt, mask_pred):\n",
    "  \"\"\"Computes soerensen-dice coefficient.\n",
    "\n",
    "  compute the soerensen-dice coefficient between the ground truth mask `mask_gt`\n",
    "  and the predicted mask `mask_pred`.\n",
    "\n",
    "  Args:\n",
    "    mask_gt: 3-dim Numpy array of type bool. The ground truth mask.\n",
    "    mask_pred: 3-dim Numpy array of type bool. The predicted mask.\n",
    "\n",
    "  Returns:\n",
    "    the dice coeffcient as float. If both masks are empty, the result is NaN.\n",
    "  \"\"\"\n",
    "  volume_sum = mask_gt.sum() + mask_pred.sum()\n",
    "  if volume_sum == 0:\n",
    "    return 1\n",
    "  volume_intersect = (mask_gt & mask_pred).sum()\n",
    "  return 2*volume_intersect / volume_sum \n",
    "\n",
    "def change_arr(true, pred):\n",
    "  pred = pred*5+3\n",
    "  \n",
    "  arr = pred + true\n",
    "  arr = np.where(arr == 9, 0, arr)\n",
    "  arr = np.where(arr == 3, 1, arr)\n",
    "  arr = np.where(arr == 8, 2, arr)\n",
    "  arr = np.where(arr == 4, 3, arr)\n",
    "  \n",
    "  return arr\n",
    "  "
   ]
  },
  {
   "cell_type": "code",
   "execution_count": 283,
   "metadata": {},
   "outputs": [],
   "source": [
    "images = glob('/home/pablo.mas/code/seg-gini_bis/images/*')\n",
    "segmentation_masks = glob('/home/pablo.mas/code/seg-gini_bis/annotation_masks/annotation_masks_100/*')\n",
    "tissue_masks = glob('/home/pablo.mas/code/seg-gini_bis/preds/tissue_mask/*')\n",
    "graphs = glob('/home/pablo.mas/code/gnn/datasets/256x256/A1702076/preprocess/graphs_viz/*')\n",
    "predictions = glob('/home/pablo.mas/code/seg-gini_bis/preds/prediction/*')\n",
    "instance_maps = glob('/home/pablo.mas/code/seg-gini_bis/preds/instance_map/')\n",
    "prediction_names = [x.split('/')[-1].split('.')[0] for x in predictions]"
   ]
  },
  {
   "cell_type": "markdown",
   "metadata": {},
   "source": [
    "# patch_0002_c4"
   ]
  },
  {
   "cell_type": "code",
   "execution_count": 290,
   "metadata": {},
   "outputs": [],
   "source": [
    "VIZ_PATH = f'/home/pablo.mas/code/seg-gini_bis/viz/'\n",
    "\n",
    "os.makedirs(VIZ_PATH, exist_ok=True)\n",
    "for IMAGE_NAME in prediction_names:\n",
    "    print(IMAGE_NAME)\n",
    "    image = np.array(Image.open(f'/home/pablo.mas/code/seg-gini_bis/images/{IMAGE_NAME}.png'))\n",
    "    segmentation_mask = np.array(Image.open(f'/home/pablo.mas/code/seg-gini_bis/annotation_masks/annotation_masks_100/{IMAGE_NAME}.png'))\n",
    "    tissue_mask = np.load(f'/home/pablo.mas/code/seg-gini_bis/preds/tissue_mask/{IMAGE_NAME}.npy')\n",
    "    graph = np.array(Image.open(f'/home/pablo.mas/code/gnn/datasets/256x256/A1702076/preprocess/graphs_viz/{IMAGE_NAME}.png'))\n",
    "    prediction = np.load(f'/home/pablo.mas/code/seg-gini_bis/preds/prediction/{IMAGE_NAME}.npy')\n",
    "    instance_map = np.load(f'/home/pablo.mas/code/seg-gini_bis/preds/instance_map/{IMAGE_NAME}.npy')\n",
    "\n",
    "    fig1, ax1 = plt.subplots(1, 3, figsize=(15, 5))\n",
    "    ax1 = np.ravel(ax1)\n",
    "\n",
    "    ax1[0].imshow(image)\n",
    "    ax1[0].set_title('Image (Macenko normalization)', fontsize=15)\n",
    "    ax1[0].axis('off')\n",
    "\n",
    "    ax1[1].imshow(mark_boundaries(image, instance_map, color=(0, 0, 0)))\n",
    "    ax1[1].set_title('Instance map (SLIC Algorithm)', fontsize=15)\n",
    "    ax1[1].axis('off')\n",
    "\n",
    "    ax1[2].imshow(graph)\n",
    "    ax1[2].set_title('Graph (Region Adjacency Graph)' , fontsize=15)\n",
    "    ax1[2].axis('off')\n",
    "\n",
    "    fig1.suptitle(f'{IMAGE_NAME} - Dice : {round(compute_dice_coefficient(segmentation_mask, prediction), 5)}', fontsize=21)\n",
    "\n",
    "    plt.savefig(VIZ_PATH + f'fig1_{IMAGE_NAME}.png', dpi=300)\n",
    "    plt.close()\n",
    "\n",
    "    fig2, ax2 = plt.subplots(1, 2, figsize=(10, 5))\n",
    "    ax2[0].imshow(segmentation_mask)\n",
    "    ax2[0].set_title('Ground truth', fontsize=15)\n",
    "    ax2[0].axis('off')\n",
    "\n",
    "    ax2[1].imshow(prediction)\n",
    "    ax2[1].set_title('Prediction', fontsize=15)\n",
    "    ax2[1].axis('off')\n",
    "\n",
    "    # cbar  = fig.colorbar(mappable=ax[5], ticks=[0, 1, 2, 3])\n",
    "    plt.suptitle(f'{IMAGE_NAME} - Dice : {round(compute_dice_coefficient(segmentation_mask, prediction), 5)}', fontsize=20)\n",
    "    plt.savefig(VIZ_PATH + f'fig2_{IMAGE_NAME}.png', dpi=300)\n",
    "    plt.close()\n",
    "\n",
    "    arr = change_arr(segmentation_mask, prediction)\n",
    "\n",
    "    cmap = plt.cm.viridis\n",
    "    norm = colors.BoundaryNorm([-0.5, 0.5, 1.5, 2.5, 3.5], cmap.N)\n",
    "\n",
    "    plt.figure(figsize=(6, 5))\n",
    "    plt.imshow(arr, cmap=cmap, norm=norm)\n",
    "    plt.axis('off')\n",
    "    cbar = plt.colorbar(ticks=[0, 1, 2, 3])\n",
    "    cbar.set_ticklabels(['TP', 'TN', 'FP', 'FN'])\n",
    "\n",
    "    plt.title(f'{IMAGE_NAME} - Dice : {round(compute_dice_coefficient(segmentation_mask, prediction), 5)}')\n",
    "    plt.savefig(VIZ_PATH + f'fig3_{IMAGE_NAME}.png', dpi=300)\n",
    "    plt.close()\n"
   ]
  },
  {
   "cell_type": "code",
   "execution_count": 293,
   "metadata": {},
   "outputs": [],
   "source": []
  },
  {
   "cell_type": "code",
   "execution_count": 271,
   "metadata": {},
   "outputs": [
    {
     "data": {
      "image/png": "[encoded data removed]",
      "text/plain": [
       "<Figure size 432x288 with 2 Axes>"
      ]
     },
     "metadata": {
      "needs_background": "light"
     },
     "output_type": "display_data"
    }
   ],
   "source": [
    "plt.imshow(arr[200:, :50], cmap=cmap, norm=norm)\n",
    "cbar = plt.colorbar(ticks=[0, 1, 2, 3])\n",
    "cbar.set_ticklabels(['TP', 'TN', 'FP', 'FN'])\n",
    "# plt.axis('off')"
   ]
  },
  {
   "cell_type": "code",
   "execution_count": 59,
   "metadata": {},
   "outputs": [
    {
     "data": {
      "text/plain": [
       "<matplotlib.image.AxesImage at 0x7f7640f5e890>"
      ]
     },
     "execution_count": 59,
     "metadata": {},
     "output_type": "execute_result"
    },
    {
     "data": {
      "image/png": "[encoded data removed]",
      "text/plain": [
       "<Figure size 432x288 with 1 Axes>"
      ]
     },
     "metadata": {
      "needs_background": "light"
     },
     "output_type": "display_data"
    }
   ],
   "source": [
    "plt.imshow(prediction+segmentation_mask)"
   ]
  },
  {
   "cell_type": "code",
   "execution_count": null,
   "metadata": {},
   "outputs": [],
   "source": []
  }
 ],
 "metadata": {
  "interpreter": {
   "hash": "09b8c83cdd02532630cfadd62ea7f6bf102ec9c25c0b4d7cb59600b0d46096f2"
  },
  "kernelspec": {
   "display_name": "Python 3.7.12 ('seggini')",
   "language": "python",
   "name": "python3"
  },
  "language_info": {
   "codemirror_mode": {
    "name": "ipython",
    "version": 3
   },
   "file_extension": ".py",
   "mimetype": "text/x-python",
   "name": "python",
   "nbconvert_exporter": "python",
   "pygments_lexer": "ipython3",
   "version": "3.7.12"
  },
  "orig_nbformat": 4
 },
 "nbformat": 4,
 "nbformat_minor": 2
}
